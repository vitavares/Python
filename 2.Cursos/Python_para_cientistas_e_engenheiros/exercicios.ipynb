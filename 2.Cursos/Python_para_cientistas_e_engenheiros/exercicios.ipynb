{
 "cells": [
  {
   "cell_type": "markdown",
   "metadata": {},
   "source": [
    "## 4.5 Exercício 1 -\n",
    "Dada a lista ['P','A','Y','A','T','A','H','O','N'], conte o número de variáveis 'A' e utilize um loop para remover todos os 'A' excedente."
   ]
  },
  {
   "cell_type": "code",
   "execution_count": 24,
   "metadata": {},
   "outputs": [
    {
     "data": {
      "text/plain": [
       "['P', 'Y', 'T', 'H', 'O', 'N']"
      ]
     },
     "execution_count": 24,
     "metadata": {},
     "output_type": "execute_result"
    }
   ],
   "source": [
    "lista = ['P','A','Y','A','T','A','H','O','N']\n",
    "lista.count('A')\n",
    "for i in range(3):\n",
    "    lista.remove('A')\n",
    "lista"
   ]
  },
  {
   "cell_type": "markdown",
   "metadata": {},
   "source": [
    "## 4.6 Exercício 2 - \n",
    "Utilizando somente uma linha de programação, crie uma lista que contenha os números ímpares de 1 a 51."
   ]
  },
  {
   "cell_type": "code",
   "execution_count": 25,
   "metadata": {},
   "outputs": [],
   "source": [
    "impares = list(range(1, 52, 2))"
   ]
  },
  {
   "cell_type": "markdown",
   "metadata": {},
   "source": [
    "## 4.7 Exercício 3 - \n",
    "Crie um dicionário que correlacione as seguintes listas:\n",
    "- valores = [1,2,3,4,5] \n",
    "- keys = ['a','b','c','d','e']\n",
    "\n",
    "Utilize um loop."
   ]
  },
  {
   "cell_type": "code",
   "execution_count": 26,
   "metadata": {},
   "outputs": [
    {
     "data": {
      "text/plain": [
       "{'a': 1, 'b': 2, 'c': 3, 'd': 4, 'e': 5}"
      ]
     },
     "execution_count": 26,
     "metadata": {},
     "output_type": "execute_result"
    }
   ],
   "source": [
    "valores = [1,2,3,4,5]\n",
    "keys = ['a','b','c','d','e']\n",
    "dicio = {}\n",
    "\n",
    "for i in range(5):\n",
    "    dicio[keys[i]] = valores[i]\n",
    "dicio"
   ]
  },
  {
   "cell_type": "markdown",
   "metadata": {},
   "source": [
    "## 4.8 Exercício 4 - \n",
    "A partir do dicionário criado no exercício anterior, recrie as listas keys e valores."
   ]
  },
  {
   "cell_type": "code",
   "execution_count": 27,
   "metadata": {},
   "outputs": [
    {
     "name": "stdout",
     "output_type": "stream",
     "text": [
      "Chaves:  ['a', 'b', 'c', 'd', 'e'] \n",
      "Valores:  [1, 2, 3, 4, 5]\n"
     ]
    }
   ],
   "source": [
    "chaves = list(dicio.keys())\n",
    "valores = list(dicio.values())\n",
    "print('Chaves: ', chaves, '\\nValores: ', valores)"
   ]
  },
  {
   "cell_type": "markdown",
   "metadata": {},
   "source": [
    "## 5.4 Exercício 1 - \n",
    "Crie uma função que receba uma frase e retorne quantas palavras tem a frase. Dica: Utilize o método split()."
   ]
  },
  {
   "cell_type": "code",
   "execution_count": 1,
   "metadata": {},
   "outputs": [
    {
     "name": "stdout",
     "output_type": "stream",
     "text": [
      "Essa frase tem  4  palavras.\n"
     ]
    }
   ],
   "source": [
    "def conta_palavras(frase):\n",
    "    quant_palavras = len(frase.split())\n",
    "    return quant_palavras\n",
    "\n",
    "text = input('Digite uma frase: ')\n",
    "resposta = conta_palavras(text)\n",
    "print('Essa frase tem ', resposta, ' palavras.')\n"
   ]
  },
  {
   "cell_type": "markdown",
   "metadata": {},
   "source": [
    "## 5.5 Exercício 2 -\n",
    "Crie uma função que lê um arquivo de extensão .txt e retorne quantas palavras tem esse arquivo. Dica: utilize o método readlines()"
   ]
  },
  {
   "cell_type": "code",
   "execution_count": 3,
   "metadata": {},
   "outputs": [
    {
     "name": "stdout",
     "output_type": "stream",
     "text": [
      "O txsto tem  224  palavras\n"
     ]
    }
   ],
   "source": [
    "def conta_palavras_texto():\n",
    "    arquivo = open('data/text.txt')\n",
    "    texto = arquivo.read()\n",
    "    palavras = len(texto)\n",
    "    return palavras\n",
    "\n",
    "resultado = conta_palavras_texto()\n",
    "print('O txsto tem ', resultado, ' palavras')"
   ]
  },
  {
   "cell_type": "markdown",
   "metadata": {},
   "source": [
    "## 5.6 Exercício 3 -\n",
    "Crie um módulo que receba o peso e a altura e calcula o IMC de uma pessoa.\n",
    "$$ IMC = \\frac{peso}{Altura^2}$$"
   ]
  },
  {
   "cell_type": "code",
   "execution_count": null,
   "metadata": {},
   "outputs": [],
   "source": [
    "def imc(peso, altura):\n",
    "    imc = peso/(altura**2)\n",
    "    return imc"
   ]
  }
 ],
 "metadata": {
  "kernelspec": {
   "display_name": "Python 3",
   "language": "python",
   "name": "python3"
  },
  "language_info": {
   "codemirror_mode": {
    "name": "ipython",
    "version": 3
   },
   "file_extension": ".py",
   "mimetype": "text/x-python",
   "name": "python",
   "nbconvert_exporter": "python",
   "pygments_lexer": "ipython3",
   "version": "3.11.6"
  }
 },
 "nbformat": 4,
 "nbformat_minor": 2
}
