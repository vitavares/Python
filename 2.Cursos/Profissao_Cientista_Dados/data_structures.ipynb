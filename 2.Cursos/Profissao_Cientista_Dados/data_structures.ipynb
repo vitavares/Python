{
 "cells": [
  {
   "cell_type": "markdown",
   "metadata": {},
   "source": [
    "## Estruturas de dados\n",
    "\n",
    "- Uma forma de armazenar as variáveis em objetos mais complexos e organizados. Algumas dessas estruturas no python:\n",
    "\n",
    "- Listas\n",
    "- Dicionarios\n",
    "- Tuplas\n",
    "- Sets  (conjuntos)"
   ]
  },
  {
   "cell_type": "code",
   "execution_count": 3,
   "metadata": {},
   "outputs": [
    {
     "name": "stdout",
     "output_type": "stream",
     "text": [
      "{1, 2, 3, 4, 5}\n"
     ]
    }
   ],
   "source": [
    "s = set([1, 2, 3, 4, 5])\n",
    "print(s)"
   ]
  },
  {
   "cell_type": "code",
   "execution_count": 5,
   "metadata": {},
   "outputs": [
    {
     "name": "stdout",
     "output_type": "stream",
     "text": [
      "Set:  set()\n",
      "Adição:  {10}\n",
      "Atualização:  {2, 3, 4, 5, 6, 7, 10}\n",
      "Remoção:  {2, 3, 4, 5, 7, 10}\n",
      "Clear:  set()\n"
     ]
    }
   ],
   "source": [
    "print(\"Set: \", s)\n",
    "s.add(10)\n",
    "print(\"Adição: \", s)\n",
    "s.update([7, 6, 5, 4, 3, 2])\n",
    "print(\"Atualização: \", s)\n",
    "s.discard(6)\n",
    "print(\"Remoção: \", s)\n",
    "s.clear()\n",
    "print(\"Clear: \", s)"
   ]
  },
  {
   "cell_type": "code",
   "execution_count": 1,
   "metadata": {},
   "outputs": [
    {
     "name": "stdout",
     "output_type": "stream",
     "text": [
      "União\n",
      "{1, 2, 3, 4, 8, 9, 10}\n",
      "{1, 2, 3, 4, 8, 9, 10}\n",
      "Interseção\n",
      "{1, 2}\n",
      "{1, 2}\n",
      "Diferença\n",
      "{3, 4}\n",
      "{3, 4}\n",
      "Diferença Simétrica\n",
      "{3, 4, 8, 9, 10}\n",
      "{3, 4, 8, 9, 10}\n"
     ]
    }
   ],
   "source": [
    "meu_set = {1, 2, 3, 4, 1}\n",
    "meu_set_2 = set([1, 2, 8, 9, 10])\n",
    "\n",
    "print(\"União\")\n",
    "print(meu_set | meu_set_2)\n",
    "print(meu_set.union(meu_set_2))\n",
    "\n",
    "print(\"Interseção\")\n",
    "print(meu_set & meu_set_2)\n",
    "print(meu_set.intersection(meu_set_2))\n",
    "\n",
    "print(\"Diferença\")\n",
    "print(meu_set - meu_set_2)\n",
    "print(meu_set.difference(meu_set_2))\n",
    "\n",
    "print(\"Diferença Simétrica\")\n",
    "print(meu_set ^ meu_set_2)\n",
    "print(meu_set.symmetric_difference(meu_set_2))"
   ]
  },
  {
   "cell_type": "code",
   "execution_count": 3,
   "metadata": {},
   "outputs": [
    {
     "name": "stdout",
     "output_type": "stream",
     "text": [
      "{'Capital': 'Brasilia', 'Idioma': 'Português', 'População': 159}\n",
      "['Capital', 'Idioma', 'População']\n",
      "<class 'dict'>\n"
     ]
    }
   ],
   "source": [
    "#Dicionários\n",
    "\n",
    "brasil = {'Capital': 'Brasilia', 'Idioma': 'Português', 'População': 159}\n",
    "print(brasil)\n",
    "print(list(brasil))\n",
    "print(type(brasil))"
   ]
  },
  {
   "cell_type": "code",
   "execution_count": 7,
   "metadata": {},
   "outputs": [
    {
     "name": "stdout",
     "output_type": "stream",
     "text": [
      "160\n",
      "{'Capital': 'Brasilia', 'Idioma': 'Português', 'População': 160, 'Habitante': 'Vitória'}\n",
      "160\n"
     ]
    }
   ],
   "source": [
    "print(brasil['População'])\n",
    "brasil['Habitante'] = 'Vitória'\n",
    "brasil['População'] = 160\n",
    "print(brasil)\n",
    "print(brasil['População'])"
   ]
  },
  {
   "cell_type": "code",
   "execution_count": 15,
   "metadata": {},
   "outputs": [
    {
     "name": "stdout",
     "output_type": "stream",
     "text": [
      "True\n",
      "True\n",
      "True\n"
     ]
    }
   ],
   "source": [
    "print('População' in brasil)\n",
    "print('Vitória' in brasil['Habitante'])\n",
    "print('Vitor' not in brasil['Habitante'])"
   ]
  },
  {
   "cell_type": "code",
   "execution_count": 18,
   "metadata": {},
   "outputs": [
    {
     "name": "stdout",
     "output_type": "stream",
     "text": [
      "Brasilia\n",
      "Valor não encontrado\n",
      "dict_keys(['Capital', 'Idioma', 'População', 'Habitante'])\n"
     ]
    }
   ],
   "source": [
    "print(brasil.get('Capital'))\n",
    "print(brasil.get('Cultura', 'Valor não encontrado'))\n",
    "print(brasil.keys())"
   ]
  },
  {
   "cell_type": "code",
   "execution_count": 19,
   "metadata": {},
   "outputs": [
    {
     "name": "stdout",
     "output_type": "stream",
     "text": [
      "Original Dictionary:\n",
      "{'Lado a': 'a', 'Lado b': 'b'}\n",
      "Dictionary after updation:\n",
      "{'Lado a': 'a', 'Lado b': 'B'}\n"
     ]
    }
   ],
   "source": [
    "Dictionary1 = {'Lado a': 'a', 'Lado b': 'b'} \n",
    "Dictionary2 = { 'Lado b': 'B' } \n",
    "print(\"Original Dictionary:\") \n",
    "print(Dictionary1) \n",
    "Dictionary1.update(Dictionary2) \n",
    "print(\"Dictionary after updation:\") \n",
    "print(Dictionary1)"
   ]
  },
  {
   "cell_type": "code",
   "execution_count": 20,
   "metadata": {},
   "outputs": [],
   "source": [
    "# Dicionário composto:\n",
    "\n",
    "cadastro = {\n",
    "    'Joel': {\n",
    "        'User': 'joelito',\n",
    "        'Level': '20',\n",
    "        'Min_de_jogo': 5489,\n",
    "        'Skills_level': {\n",
    "            'Mira': 8,\n",
    "            'Comb': 7,\n",
    "            'Farm': 10\n",
    "        }\n",
    "    } \n",
    "}"
   ]
  },
  {
   "cell_type": "code",
   "execution_count": 23,
   "metadata": {},
   "outputs": [
    {
     "name": "stdout",
     "output_type": "stream",
     "text": [
      "dict_keys(['Joel'])\n",
      "dict_keys(['User', 'Level', 'Min_de_jogo', 'Skills_level'])\n",
      "dict_values([{'User': 'joelito', 'Level': '20', 'Min_de_jogo': 5489, 'Skills_level': {'Mira': 8, 'Comb': 7, 'Farm': 10}}])\n"
     ]
    }
   ],
   "source": [
    "print(cadastro.keys())\n",
    "print(cadastro['Joel'].keys())\n",
    "print(cadastro.values())"
   ]
  }
 ],
 "metadata": {
  "kernelspec": {
   "display_name": "Python 3",
   "language": "python",
   "name": "python3"
  },
  "language_info": {
   "codemirror_mode": {
    "name": "ipython",
    "version": 3
   },
   "file_extension": ".py",
   "mimetype": "text/x-python",
   "name": "python",
   "nbconvert_exporter": "python",
   "pygments_lexer": "ipython3",
   "version": "3.11.4"
  }
 },
 "nbformat": 4,
 "nbformat_minor": 2
}
