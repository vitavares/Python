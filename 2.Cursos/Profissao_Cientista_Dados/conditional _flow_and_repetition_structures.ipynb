{
 "cells": [
  {
   "cell_type": "markdown",
   "metadata": {},
   "source": [
    "### Fluxos condicionais e estruturas de repetição\n",
    "\n"
   ]
  },
  {
   "cell_type": "code",
   "execution_count": 1,
   "metadata": {},
   "outputs": [
    {
     "name": "stdout",
     "output_type": "stream",
     "text": [
      "Você tem 18 aninhos !\n"
     ]
    }
   ],
   "source": [
    "idade = 18\n",
    "if idade > 18:\n",
    "    print('Você é maior de idade !')\n",
    "elif idade == 18:\n",
    "    print('Você tem 18 aninhos !')\n",
    "else:\n",
    "    print('Você é menor de idade!')"
   ]
  },
  {
   "cell_type": "code",
   "execution_count": 3,
   "metadata": {},
   "outputs": [
    {
     "name": "stdout",
     "output_type": "stream",
     "text": [
      "Jonas\n",
      "Caelos\n",
      "Tadeu\n",
      "\n",
      "Todos os nomes já foram impressos !\n"
     ]
    }
   ],
   "source": [
    "nomes = ['Jonas', 'Caelos', 'Tadeu']\n",
    "\n",
    "for n in nomes:\n",
    "    print(n)\n",
    "else:\n",
    "    print('\\nTodos os nomes já foram impressos !')"
   ]
  },
  {
   "cell_type": "code",
   "execution_count": 9,
   "metadata": {},
   "outputs": [
    {
     "name": "stdout",
     "output_type": "stream",
     "text": [
      "Nome escolhido:  Tadeu\n",
      "\n",
      "O nome está na lista\n"
     ]
    }
   ],
   "source": [
    "nome = input('Digite um nome: ')\n",
    "print('Nome escolhido: ', nome)\n",
    "\n",
    "if nome in nomes:\n",
    "    print('\\nO nome está na lista')\n",
    "else:\n",
    "    print('\\nO nome não esta na lista')"
   ]
  },
  {
   "cell_type": "code",
   "execution_count": 13,
   "metadata": {},
   "outputs": [
    {
     "name": "stdout",
     "output_type": "stream",
     "text": [
      "\n",
      " s\n",
      "\n",
      " t\n",
      "\n",
      " r\n",
      "\n",
      " i\n",
      "\n",
      " n\n",
      "\n",
      " g\n"
     ]
    }
   ],
   "source": [
    "for caractere in 'string':\n",
    "    print('\\n', caractere)"
   ]
  },
  {
   "cell_type": "code",
   "execution_count": 5,
   "metadata": {},
   "outputs": [
    {
     "name": "stdout",
     "output_type": "stream",
     "text": [
      "0\n",
      "1\n",
      "2\n",
      "3\n",
      "4\n",
      "5\n"
     ]
    }
   ],
   "source": [
    "# while\n",
    "cont = 0\n",
    "\n",
    "while cont <= 5:\n",
    "    print(cont)\n",
    "    cont += 1\n"
   ]
  },
  {
   "cell_type": "code",
   "execution_count": 7,
   "metadata": {},
   "outputs": [
    {
     "name": "stdout",
     "output_type": "stream",
     "text": [
      "\n",
      "Perdeu...\n"
     ]
    }
   ],
   "source": [
    "# while com else\n",
    "\n",
    "import random\n",
    "\n",
    "numero_magico = random.randint(0,100)\n",
    "tentativas = 0\n",
    "\n",
    "while tentativas < 3:\n",
    "    numero = input('Adivinhe o número mágico (0 a 100): ')\n",
    "\n",
    "    if int(numero) == numero_magico:\n",
    "        print('\\nCorreto !')\n",
    "        break\n",
    "    tentativas += 1\n",
    "else:\n",
    "    print('\\nPerdeu...')"
   ]
  },
  {
   "cell_type": "markdown",
   "metadata": {},
   "source": [
    "### Exercicio"
   ]
  },
  {
   "cell_type": "code",
   "execution_count": 5,
   "metadata": {},
   "outputs": [],
   "source": [
    "propaganda_online = [\n",
    "  {'tempo_gasto_site': 68.95, 'idade': 35, 'renda_area': 61833.90, 'tempo_gasto_internet': 256.09, 'cidade': 'Wrightburgh', 'pais': 'Tunisia', 'clicou_no_ad': 0},\n",
    "  {'tempo_gasto_site': 80.23, 'idade': 31, 'renda_area': 68441.85, 'tempo_gasto_internet': 193.77, 'cidade': 'West Jodi', 'pais': 'Nauru', 'clicou_no_ad': 0},\n",
    "  {'tempo_gasto_site': 69.47, 'idade': 26, 'renda_area': 59785.94, 'tempo_gasto_internet': 236.50, 'cidade': 'Davidton', 'pais': 'San Marino', 'clicou_no_ad': 0},\n",
    "  {'tempo_gasto_site': 68.37, 'idade': 35, 'renda_area': 73889.99, 'tempo_gasto_internet': 225.58, 'cidade': 'South Manuel', 'pais': 'Iceland', 'clicou_no_ad': 0},\n",
    "  {'tempo_gasto_site': 88.91, 'idade': 33, 'renda_area': 53852.85, 'tempo_gasto_internet': 208.36, 'cidade': 'Brandonstad', 'pais': 'Myanmar', 'clicou_no_ad': 0},\n",
    "  {'tempo_gasto_site': None, 'idade': 48, 'renda_area': 24593.33, 'tempo_gasto_internet': 131.76, 'cidade': 'Port Jefferybury', 'pais': 'Australia', 'clicou_no_ad': 1},\n",
    "  {'tempo_gasto_site': 74.53, 'idade': 30, 'renda_area': 68862.00, 'tempo_gasto_internet': 221.51, 'cidade': 'West Colin', 'pais': 'Grenada'},\n",
    "  {'tempo_gasto_site': 69.88, 'idade': 20, 'renda_area': 55642.32, 'tempo_gasto_internet': 183.82, 'cidade': 'Ramirezton', 'pais': 'Ghana', 'clicou_no_ad': 0}\n",
    "]"
   ]
  },
  {
   "cell_type": "code",
   "execution_count": 10,
   "metadata": {},
   "outputs": [
    {
     "name": "stdout",
     "output_type": "stream",
     "text": [
      "68.95 35\n",
      "80.23 31\n",
      "69.47 26\n",
      "68.37 35\n",
      "88.91 33\n",
      "None 48\n",
      "74.53 30\n",
      "69.88 20\n"
     ]
    }
   ],
   "source": [
    "#1.1. Imprime os seguintes valores da lista:`tempo_gasto_site` e `idade`\n",
    "\n",
    "for dados_cliente in propaganda_online:\n",
    "    print(dados_cliente['tempo_gasto_site'], dados_cliente['idade'])"
   ]
  },
  {
   "cell_type": "code",
   "execution_count": 11,
   "metadata": {},
   "outputs": [
    {
     "name": "stdout",
     "output_type": "stream",
     "text": [
      "Wrightburgh\n",
      "West Jodi\n",
      "Davidton\n",
      "South Manuel\n",
      "Brandonstad\n",
      "Port Jefferybury\n",
      "West Colin\n",
      "Ramirezton\n"
     ]
    }
   ],
   "source": [
    "#2.1. Utilize a estrutura if/else para imprimir a cidade dos usuários que gastaram mais de 100 horas de tempo na internet\n",
    "\n",
    "for dados_cliente in propaganda_online:\n",
    "    if dados_cliente['tempo_gasto_internet'] > 100.00:\n",
    "        print(dados_cliente['cidade'])"
   ]
  }
 ],
 "metadata": {
  "kernelspec": {
   "display_name": "Python 3",
   "language": "python",
   "name": "python3"
  },
  "language_info": {
   "codemirror_mode": {
    "name": "ipython",
    "version": 3
   },
   "file_extension": ".py",
   "mimetype": "text/x-python",
   "name": "python",
   "nbconvert_exporter": "python",
   "pygments_lexer": "ipython3",
   "version": "3.11.4"
  }
 },
 "nbformat": 4,
 "nbformat_minor": 2
}
