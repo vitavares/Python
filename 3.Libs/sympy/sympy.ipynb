{
 "cells": [
  {
   "cell_type": "markdown",
   "metadata": {},
   "source": [
    "# sympy\n",
    "> Biblioteca python para matemática simbólica.\n",
    "> Computação simbólica lida com o cálculo de objetos matemáticos Simbolicamente."
   ]
  },
  {
   "cell_type": "code",
   "execution_count": 2,
   "metadata": {},
   "outputs": [],
   "source": [
    "from sympy import sin\n",
    "import sympy as sp\n"
   ]
  },
  {
   "cell_type": "markdown",
   "metadata": {},
   "source": [
    "## symbols\n",
    "- symbols(string_de_simbolo)\n",
    "- symbols leva uma cadeia de nomes de variáveis separados por espaços ou vírgulas, e cria símbolos a partir deles. Podemos então atribuí-los a nomes de variáveis."
   ]
  },
  {
   "cell_type": "code",
   "execution_count": 3,
   "metadata": {},
   "outputs": [
    {
     "data": {
      "text/latex": [
       "$\\displaystyle x + 1$"
      ],
      "text/plain": [
       "x + 1"
      ]
     },
     "execution_count": 3,
     "metadata": {},
     "output_type": "execute_result"
    }
   ],
   "source": [
    "x = sp.symbols('x')\n",
    "x + 1"
   ]
  },
  {
   "cell_type": "code",
   "execution_count": 4,
   "metadata": {},
   "outputs": [
    {
     "data": {
      "text/plain": [
       "(b, a)"
      ]
     },
     "execution_count": 4,
     "metadata": {},
     "output_type": "execute_result"
    }
   ],
   "source": [
    "# o nome de um Símbolo e o nome do variável é atribuída a necessidade de não ter nada a ver com o outro.\n",
    "a, b = sp.symbols('b a')\n",
    "a, b"
   ]
  },
  {
   "cell_type": "code",
   "execution_count": 5,
   "metadata": {},
   "outputs": [
    {
     "data": {
      "text/latex": [
       "$\\displaystyle 2 x$"
      ],
      "text/plain": [
       "2*x"
      ]
     },
     "execution_count": 5,
     "metadata": {},
     "output_type": "execute_result"
    }
   ],
   "source": [
    "x + x"
   ]
  },
  {
   "cell_type": "code",
   "execution_count": 8,
   "metadata": {},
   "outputs": [
    {
     "data": {
      "text/latex": [
       "$\\displaystyle x^{2}$"
      ],
      "text/plain": [
       "x**2"
      ]
     },
     "execution_count": 8,
     "metadata": {},
     "output_type": "execute_result"
    }
   ],
   "source": [
    "x * x"
   ]
  },
  {
   "cell_type": "code",
   "execution_count": 11,
   "metadata": {},
   "outputs": [
    {
     "data": {
      "text/latex": [
       "$\\displaystyle a_{1} x + a_{2} x^{2} + a_{3} x^{3} + a_{4} x^{4} + 2$"
      ],
      "text/plain": [
       "a1*x + a2*x**2 + a3*x**3 + a4*x**4 + 2"
      ]
     },
     "execution_count": 11,
     "metadata": {},
     "output_type": "execute_result"
    }
   ],
   "source": [
    "# Muito utilizado para polinomios\n",
    "a1, a2, a3, a4 = sp.symbols('a1:5')\n",
    "a4 * x**4 + a3 * x**3 + a2 * x**2 + a1 * x + 2"
   ]
  },
  {
   "cell_type": "markdown",
   "metadata": {},
   "source": [
    "## Substituição\n",
    "-  Substituição substitui todas as instâncias de algo em uma expressão com outra coisa. \n",
    "- Utiliza o método subs()"
   ]
  },
  {
   "cell_type": "code",
   "execution_count": 10,
   "metadata": {},
   "outputs": [
    {
     "data": {
      "text/latex": [
       "$\\displaystyle x^{2} + x y + y^{2}$"
      ],
      "text/plain": [
       "x**2 + x*y + y**2"
      ]
     },
     "execution_count": 10,
     "metadata": {},
     "output_type": "execute_result"
    }
   ],
   "source": [
    "simbolos = ['x', 'y']\n",
    "x, y = sp.symbols(simbolos)\n",
    "expr = x**2 + y**2 + x * y\n",
    "expr"
   ]
  },
  {
   "cell_type": "code",
   "execution_count": 11,
   "metadata": {},
   "outputs": [
    {
     "data": {
      "text/latex": [
       "$\\displaystyle 109$"
      ],
      "text/plain": [
       "109"
      ]
     },
     "execution_count": 11,
     "metadata": {},
     "output_type": "execute_result"
    }
   ],
   "source": [
    "# Avaliando a expressão em um ponto:\n",
    "resp = expr.subs(x, 5).subs(y, 7)\n",
    "resp"
   ]
  },
  {
   "cell_type": "code",
   "execution_count": 12,
   "metadata": {},
   "outputs": [
    {
     "data": {
      "text/latex": [
       "$\\displaystyle x^{4} + x^{2} y + y^{2}$"
      ],
      "text/plain": [
       "x**4 + x**2*y + y**2"
      ]
     },
     "execution_count": 12,
     "metadata": {},
     "output_type": "execute_result"
    }
   ],
   "source": [
    "# Substituindo uma subspressão por outra subspressão:\n",
    "expr.subs(x, x**2)"
   ]
  },
  {
   "cell_type": "code",
   "execution_count": 14,
   "metadata": {},
   "outputs": [
    {
     "data": {
      "text/latex": [
       "$\\displaystyle x^{2} + x y + y^{2}$"
      ],
      "text/plain": [
       "x**2 + x*y + y**2"
      ]
     },
     "execution_count": 14,
     "metadata": {},
     "output_type": "execute_result"
    }
   ],
   "source": [
    "# Os objetos SymPy são imutáveis. Isso significa que subs() não podifica a expressão original.\n",
    "expr"
   ]
  },
  {
   "cell_type": "markdown",
   "metadata": {},
   "source": [
    "## Simplificação\n",
    "- simplify() é uma função geral utilizada para simplificação de espressões matemáticas."
   ]
  },
  {
   "cell_type": "code",
   "execution_count": 35,
   "metadata": {},
   "outputs": [
    {
     "data": {
      "text/latex": [
       "$\\displaystyle x - 1$"
      ],
      "text/plain": [
       "x - 1"
      ]
     },
     "execution_count": 35,
     "metadata": {},
     "output_type": "execute_result"
    }
   ],
   "source": [
    "sp.simplify((x**3 + x**2 - x - 1)/(x**2 + 2*x + 1))"
   ]
  },
  {
   "cell_type": "markdown",
   "metadata": {},
   "source": [
    "## Matriz\n",
    "- Função **Matrix([])**\n",
    "- Propriedade **.shape**\n",
    "- Matrizes úteis **eye(** *tamanho*), **zeros(** *i,j*), **ones(** *i,j*), \n",
    "- **diag(** *lista*), no caso do diag pode ser usado \\* antes da lista ou o argumento unpack=True\n",
    "- Operações comuns: **+,-,* **\n",
    "- Para inverter a matriz, basta elevar a -1\n",
    "- Para transpor use o método **.T**\n",
    "- Para achar o determinante use o método **.det()**\n",
    "- Aceitam operadores booleanos"
   ]
  },
  {
   "cell_type": "code",
   "execution_count": 15,
   "metadata": {},
   "outputs": [],
   "source": [
    "import sympy as sp\n",
    "sp.init_printing(use_unicode = True)"
   ]
  },
  {
   "cell_type": "code",
   "execution_count": 18,
   "metadata": {},
   "outputs": [
    {
     "data": {
      "text/latex": [
       "$\\displaystyle \\left( \\left[\\begin{matrix}1 & 3\\\\3 & 2\\end{matrix}\\right], \\  \\left[\\begin{matrix}1\\\\2\\end{matrix}\\right]\\right)$"
      ],
      "text/plain": [
       "⎛⎡1  3⎤  ⎡1⎤⎞\n",
       "⎜⎢    ⎥, ⎢ ⎥⎟\n",
       "⎝⎣3  2⎦  ⎣2⎦⎠"
      ]
     },
     "execution_count": 18,
     "metadata": {},
     "output_type": "execute_result"
    }
   ],
   "source": [
    "A = sp.Matrix([[1, 3], [3, 2]])\n",
    "B = sp.Matrix([[1], [2]])\n",
    "A, B"
   ]
  },
  {
   "cell_type": "code",
   "execution_count": 21,
   "metadata": {},
   "outputs": [
    {
     "data": {
      "text/latex": [
       "$\\displaystyle \\left[\\begin{matrix}1 & 8\\\\5 & 6\\\\7 & 7\\end{matrix}\\right]$"
      ],
      "text/plain": [
       "⎡1  8⎤\n",
       "⎢    ⎥\n",
       "⎢5  6⎥\n",
       "⎢    ⎥\n",
       "⎣7  7⎦"
      ]
     },
     "execution_count": 21,
     "metadata": {},
     "output_type": "execute_result"
    }
   ],
   "source": [
    "# Transposta\n",
    "\n",
    "C = sp.Matrix([[1,5,7,], [8,6,7 ]]).T\n",
    "C"
   ]
  },
  {
   "cell_type": "code",
   "execution_count": 28,
   "metadata": {},
   "outputs": [
    {
     "data": {
      "text/latex": [
       "$\\displaystyle \\left[\\begin{matrix}5 & 0 & 0 & 0 & 0\\\\0 & 6 & 0 & 0 & 0\\\\0 & 0 & 7 & 0 & 0\\\\0 & 0 & 0 & 3 & 0\\\\0 & 0 & 0 & 0 & 5\\end{matrix}\\right]$"
      ],
      "text/plain": [
       "⎡5  0  0  0  0⎤\n",
       "⎢             ⎥\n",
       "⎢0  6  0  0  0⎥\n",
       "⎢             ⎥\n",
       "⎢0  0  7  0  0⎥\n",
       "⎢             ⎥\n",
       "⎢0  0  0  3  0⎥\n",
       "⎢             ⎥\n",
       "⎣0  0  0  0  5⎦"
      ]
     },
     "execution_count": 28,
     "metadata": {},
     "output_type": "execute_result"
    }
   ],
   "source": [
    "# Matrizes úteis\n",
    "\n",
    "# Matriz identidade\n",
    "I = sp.eye(5)\n",
    "I\n",
    "\n",
    "# NUla\n",
    "E = sp.zeros(5, 5)\n",
    "E\n",
    "\n",
    "# Uns\n",
    "O = sp.ones(5, 5)\n",
    "O\n",
    "\n",
    "# Diagonal\n",
    "lista_diag = [5,6,7,3,5]\n",
    "diag = sp.diag(lista_diag, unpack=True)\n",
    "diag"
   ]
  },
  {
   "cell_type": "code",
   "execution_count": 31,
   "metadata": {},
   "outputs": [
    {
     "data": {
      "image/png": "[encoded data removed]",
      "text/latex": [
       "$\\displaystyle \\left( 5, \\  5\\right)$"
      ],
      "text/plain": [
       "(5, 5)"
      ]
     },
     "execution_count": 31,
     "metadata": {},
     "output_type": "execute_result"
    }
   ],
   "source": [
    "# shape: forma d euma matriz, linhas e colunas\n",
    "\n",
    "sp.shape(A)\n",
    "sp.shape(I)"
   ]
  },
  {
   "cell_type": "code",
   "execution_count": 34,
   "metadata": {},
   "outputs": [
    {
     "data": {
      "text/latex": [
       "$\\displaystyle \\left[\\begin{matrix}1\\\\2\\end{matrix}\\right]$"
      ],
      "text/plain": [
       "⎡1⎤\n",
       "⎢ ⎥\n",
       "⎣2⎦"
      ]
     },
     "execution_count": 34,
     "metadata": {},
     "output_type": "execute_result"
    }
   ],
   "source": [
    "# Linhas e colunas individualmente\n",
    "\n",
    "A.row(0)\n",
    "B.col(-1)"
   ]
  },
  {
   "cell_type": "code",
   "execution_count": 42,
   "metadata": {},
   "outputs": [
    {
     "data": {
      "text/latex": [
       "$\\displaystyle \\left[\\begin{matrix}1 & 6 & 7 & 9\\\\7 & 1 & 4 & 8\\\\8 & 2 & 2 & 6\\end{matrix}\\right]$"
      ],
      "text/plain": [
       "⎡1  6  7  9⎤\n",
       "⎢          ⎥\n",
       "⎢7  1  4  8⎥\n",
       "⎢          ⎥\n",
       "⎣8  2  2  6⎦"
      ]
     },
     "execution_count": 42,
     "metadata": {},
     "output_type": "execute_result"
    }
   ],
   "source": [
    "# Excluir e inserir colunas\n",
    "\n",
    "matriz_teste = sp.Matrix([[1,6,7,9], [7,1,4,8,], [8,2,2,6]])\n",
    "matriz_teste"
   ]
  },
  {
   "cell_type": "code",
   "execution_count": 43,
   "metadata": {},
   "outputs": [
    {
     "data": {
      "text/latex": [
       "$\\displaystyle \\left[\\begin{matrix}1 & 6 & 7 & 9\\\\7 & 1 & 4 & 8\\end{matrix}\\right]$"
      ],
      "text/plain": [
       "⎡1  6  7  9⎤\n",
       "⎢          ⎥\n",
       "⎣7  1  4  8⎦"
      ]
     },
     "execution_count": 43,
     "metadata": {},
     "output_type": "execute_result"
    }
   ],
   "source": [
    "matriz_teste.row_del(2)\n",
    "matriz_teste"
   ]
  },
  {
   "cell_type": "code",
   "execution_count": 45,
   "metadata": {},
   "outputs": [
    {
     "data": {
      "text/latex": [
       "$\\displaystyle \\left[\\begin{matrix}1 & 6 & 9\\\\7 & 1 & 8\\end{matrix}\\right]$"
      ],
      "text/plain": [
       "⎡1  6  9⎤\n",
       "⎢       ⎥\n",
       "⎣7  1  8⎦"
      ]
     },
     "execution_count": 45,
     "metadata": {},
     "output_type": "execute_result"
    }
   ],
   "source": [
    "matriz_teste.col_del(2)\n",
    "matriz_teste"
   ]
  },
  {
   "cell_type": "code",
   "execution_count": 48,
   "metadata": {},
   "outputs": [
    {
     "data": {
      "text/latex": [
       "$\\displaystyle \\left[\\begin{matrix}1 & 6 & 9\\\\8 & 4 & 5\\\\7 & 1 & 8\\end{matrix}\\right]$"
      ],
      "text/plain": [
       "⎡1  6  9⎤\n",
       "⎢       ⎥\n",
       "⎢8  4  5⎥\n",
       "⎢       ⎥\n",
       "⎣7  1  8⎦"
      ]
     },
     "execution_count": 48,
     "metadata": {},
     "output_type": "execute_result"
    }
   ],
   "source": [
    "matriz_teste = matriz_teste.row_insert(1, sp.Matrix([[8,4,5]]))\n",
    "matriz_teste"
   ]
  },
  {
   "cell_type": "code",
   "execution_count": 56,
   "metadata": {},
   "outputs": [
    {
     "data": {
      "text/latex": [
       "$\\displaystyle \\left[\\begin{matrix}1 & 1 & 6 & 9\\\\8 & 8 & 4 & 5\\\\7 & 9 & 1 & 8\\end{matrix}\\right]$"
      ],
      "text/plain": [
       "⎡1  1  6  9⎤\n",
       "⎢          ⎥\n",
       "⎢8  8  4  5⎥\n",
       "⎢          ⎥\n",
       "⎣7  9  1  8⎦"
      ]
     },
     "execution_count": 56,
     "metadata": {},
     "output_type": "execute_result"
    }
   ],
   "source": [
    "matriz_teste = matriz_teste.col_insert(1, sp.Matrix([[1],[8],[9]]))\n",
    "matriz_teste"
   ]
  }
 ],
 "metadata": {
  "kernelspec": {
   "display_name": "Python 3",
   "language": "python",
   "name": "python3"
  },
  "language_info": {
   "codemirror_mode": {
    "name": "ipython",
    "version": 3
   },
   "file_extension": ".py",
   "mimetype": "text/x-python",
   "name": "python",
   "nbconvert_exporter": "python",
   "pygments_lexer": "ipython3",
   "version": "3.11.6"
  }
 },
 "nbformat": 4,
 "nbformat_minor": 2
}
